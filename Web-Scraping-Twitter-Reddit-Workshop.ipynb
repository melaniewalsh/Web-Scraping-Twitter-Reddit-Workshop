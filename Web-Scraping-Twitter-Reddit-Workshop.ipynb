{
 "cells": [
  {
   "cell_type": "markdown",
   "metadata": {},
   "source": [
    "# Web Scraping with Twitter and Reddit"
   ]
  },
  {
   "cell_type": "markdown",
   "metadata": {},
   "source": [
    "A workshop for the [Cornell Data Journal](https://www.facebook.com/cornelldatajournal/) // October 15, 2020 // 5-6pm"
   ]
  },
  {
   "cell_type": "markdown",
   "metadata": {},
   "source": [
    "Hosted by [Melanie Walsh](https://melaniewalsh.org/)"
   ]
  },
  {
   "cell_type": "markdown",
   "metadata": {},
   "source": [
    "![](Cornell-Data-Journal-Workshop-image.jpg)"
   ]
  },
  {
   "cell_type": "markdown",
   "metadata": {},
   "source": [
    "This material draws from extensively from my online textbook, [*Introduction to Cultural Analytics & Python*](https://melaniewalsh.github.io/Intro-Cultural-Analytics/welcome.html)"
   ]
  },
  {
   "cell_type": "markdown",
   "metadata": {},
   "source": [
    "# Why Collect Social Media Data?"
   ]
  },
  {
   "cell_type": "markdown",
   "metadata": {},
   "source": [
    "- Maybe you're interested in internet language trends, like this [Pudding article about the rise of \"lol\" on Reddit](https://pudding.cool/2019/10/laugh/#lol)\n",
    "- Maybe you're interested in Twitter bots, trolls, or online protest movements, like this [NYT article about Twitter bots and Hong Kong protestors](https://www.nytimes.com/interactive/2019/09/18/world/asia/hk-twitter.html) or this [538 article about Russian trolls](https://fivethirtyeight.com/features/why-were-sharing-3-million-russian-troll-tweets/)\n",
    "- Maybe you're interested in how online communities develop and relate to each other, like this [mapping of subreddits](https://lmcinnes.github.io/subreddit_mapping/subreddit_map.html) or this [538 piece about how people respond to politicians on Twitter](https://fivethirtyeight.com/features/the-worst-tweeter-in-politics-isnt-trump/)"
   ]
  },
  {
   "cell_type": "markdown",
   "metadata": {},
   "source": [
    "![](Pudding-lols.png)"
   ]
  },
  {
   "cell_type": "markdown",
   "metadata": {},
   "source": [
    "# How Can We Collect Social Media Data Ethically?"
   ]
  },
  {
   "cell_type": "markdown",
   "metadata": {},
   "source": [
    "How can we collect social media data ethically — in a way that respects users' privacy, safety, and creative production? This question is not a footnote or an afterthought. This question instead needs to be asked at the very beginning of any project that will collect and analyze social media data — as well as at every subsequent step in the project.\n",
    "\n",
    "In my [online textbook](https://melaniewalsh.github.io/Intro-Cultural-Analytics/Data-Collection/User-Ethics-Legal-Concerns.html), I discuss that it is generally considered legal to collect publicly available social media data. Just because something is legal does not mean it is ethical, however. Collecting, sharing, and publishing internet data created by or about individuals can lead to unwanted public scrutiny, harm, and other negative consequences for those individuals. For these reasons, some researchers attempt to anonymize internet data before sharing it or before publishing an article that cites a post specifically. Yet anonymizing internet data also does not give credit to internet users as creators and authors.\n",
    "\n",
    "There is no single, simple answer to the many difficult questions raised by internet data collection. It is important to develop an ethical framework that responds to the specifics of your particular research project or use case (e.g., the platform, the people involved, the context, the potential consequences, etc.).\n",
    "\n",
    "Below are a few examples of how researchers have approached social media data in published research:\n",
    "\n",
    "* In Maria Antoniak, David Mimno, and Karen Levy's [article about  a Reddit subcommunity dedicated to birthstories (r/BabyBumps)](https://maria-antoniak.github.io/resources/2019_cscw_birth_stories.pdf), they paraphrased Reddit submissions discussed in the article and then deleted all collected Reddit data after the article was published. \n",
    "\n",
    "* In Deen Freelon, Charlton McIlwain, and Meredith D. Clark's [report about the #BlackLivesMatter movement](https://cmsimpact.org/wp-content/uploads/2016/03/beyond_the_hashtags_2016.pdf), they included links to tweets rather than the full text of tweets and only linked to tweets with a minimum of 100 retweets published by Twitter users who had at least 3,000 followers or were verified. They embargoed their Twitter data for a year and then publicly released a list of tweet IDs. Tweet IDs can be used by third-parties to re-download any tweets that have not been deleted yet, as I discuss in the lesson [\"Twitter Data Sharing\"](https://melaniewalsh.github.io/Intro-Cultural-Analytics/Data-Collection/Twitter-Data-Sharing.html).\n",
    "\n",
    "* In Moya Bailey's [article about the #GirlsLikeUs hashtag](http://www.digitalhumanities.org/dhq/vol/9/2/000209/000209.html), created by trans advocate Janet Mock, she asked for Mock's permission to work on the project before it began and collaborated with Mock to develop research questions and determine the project's direction."
   ]
  },
  {
   "cell_type": "markdown",
   "metadata": {},
   "source": [
    "# How Can We Collect Social Media Data With Computational Tools?"
   ]
  },
  {
   "cell_type": "markdown",
   "metadata": {},
   "source": [
    "## APIs vs Web Scraping"
   ]
  },
  {
   "cell_type": "markdown",
   "metadata": {},
   "source": [
    "An Application Programming Interface (API) allows you to programmatically extract and interact with data under the hood of websites, social networks, and other projects that make their data publicly available. Twitter and Reddit both offer APIs that allow users to access their data. However, because these APIs are controlled by the companies themselves, they also come with limitations. For example, Twitter does not allow users to collect tweets more than one week in the past without a paid subscription.\n",
    "\n",
    "Another way that you might collect data from the internet or social media is via web scraping. When you get data from an API, you're getting data from an internal source (from \"inside\" Twitter). When you \"scrape\" the surface of a web page, you're getting data from the user-facing surface of a web page, just like the web page you would pull up if you opened Chrome and typed \"twitter.com\". This makes web scraping sometimes clunky and unreliable when compared to an API, although it's often the only option if there's not an available API or the API does not offer what you're looking for."
   ]
  },
  {
   "cell_type": "markdown",
   "metadata": {},
   "source": [
    "## Reddit"
   ]
  },
  {
   "cell_type": "markdown",
   "metadata": {},
   "source": [
    "Though Reddit has its own API, there is a more popular API for working with Reddit called Pushshift. You can read more about Pushshift in this arXiv article: https://arxiv.org/abs/2001.08435 ([PDF](https://arxiv.org/pdf/2001.08435.pdf))"
   ]
  },
  {
   "cell_type": "markdown",
   "metadata": {},
   "source": [
    "> Why do people use Pushshift’s API instead of the official Reddit API?\n",
    "\n",
    "> In short, Pushshift makes it\n",
    "much easier for researchers to query and retrieve historical\n",
    "Reddit data, provides extended functionality by providing fulltext search against comments and submissions, and has larger\n",
    "single query limits. \n",
    "\n",
    ">— Jason Baumgartner, et al., [\"The Pushshift Reddit Dataset\"](https://arxiv.org/pdf/2001.08435.pdf)"
   ]
  },
  {
   "cell_type": "markdown",
   "metadata": {},
   "source": [
    "### Install PSAW"
   ]
  },
  {
   "cell_type": "markdown",
   "metadata": {},
   "source": [
    "To work with the Pushshift API, we're going to install and use a Python wrapper called [PSAW](https://github.com/dmarx/psaw)."
   ]
  },
  {
   "cell_type": "code",
   "execution_count": null,
   "metadata": {
    "scrolled": true
   },
   "outputs": [],
   "source": [
    "!pip install psaw"
   ]
  },
  {
   "cell_type": "markdown",
   "metadata": {},
   "source": [
    "Import Pandas and set display options"
   ]
  },
  {
   "cell_type": "code",
   "execution_count": 1,
   "metadata": {},
   "outputs": [],
   "source": [
    "import pandas as pd\n",
    "pd.set_option('max_colwidth', 500)\n",
    "pd.set_option('max_columns', 50)"
   ]
  },
  {
   "cell_type": "markdown",
   "metadata": {},
   "source": [
    "Import PushshiftAPI"
   ]
  },
  {
   "cell_type": "code",
   "execution_count": 2,
   "metadata": {},
   "outputs": [],
   "source": [
    "from psaw import PushshiftAPI"
   ]
  },
  {
   "cell_type": "markdown",
   "metadata": {},
   "source": [
    "Initialize PushshiftAPI"
   ]
  },
  {
   "cell_type": "code",
   "execution_count": null,
   "metadata": {},
   "outputs": [],
   "source": [
    "api = PushshiftAPI()"
   ]
  },
  {
   "cell_type": "markdown",
   "metadata": {},
   "source": [
    "## PSAW Usage"
   ]
  },
  {
   "cell_type": "markdown",
   "metadata": {},
   "source": [
    "To collect Reddit posts:"
   ]
  },
  {
   "cell_type": "markdown",
   "metadata": {},
   "source": [
    "`api_request_generator = api.search_submissions(subreddit=\"subrredit of interest\", score=\">certain upvote score\", q=\"search keyword\", before=date, after=date`)"
   ]
  },
  {
   "cell_type": "markdown",
   "metadata": {},
   "source": [
    "`reddit_submissions = pd.DataFrame([submission.d_ for submission in api_request_generator])`"
   ]
  },
  {
   "cell_type": "markdown",
   "metadata": {},
   "source": [
    "To collect Reddit comments:"
   ]
  },
  {
   "cell_type": "markdown",
   "metadata": {},
   "source": [
    "`api_request_generator = api.search_comments(subreddit=\"subrredit of interest\", score=\">certain upvote score\", q=\"search keyword\", before=date, after=date`)"
   ]
  },
  {
   "cell_type": "markdown",
   "metadata": {},
   "source": [
    "`reddit_comments = pd.DataFrame([comment.d_ for comment in api_request_generator])`"
   ]
  },
  {
   "cell_type": "markdown",
   "metadata": {},
   "source": [
    "## Collect Reddit submissions for a subreddit (with more than a certain upvote score)"
   ]
  },
  {
   "cell_type": "markdown",
   "metadata": {},
   "source": [
    "Set up generator to make API request"
   ]
  },
  {
   "cell_type": "code",
   "execution_count": 4,
   "metadata": {},
   "outputs": [],
   "source": [
    "api_request_generator = api.search_submissions(subreddit='AmITheAsshole', score = \">2000\")"
   ]
  },
  {
   "cell_type": "markdown",
   "metadata": {},
   "source": [
    "Grab data for each Reddit submission and make into a DataFrame"
   ]
  },
  {
   "cell_type": "code",
   "execution_count": 5,
   "metadata": {},
   "outputs": [
    {
     "name": "stderr",
     "output_type": "stream",
     "text": [
      "/Users/melaniewalsh/opt/anaconda3/lib/python3.7/site-packages/psaw/PushshiftAPI.py:192: UserWarning: Got non 200 code 429\n",
      "  warnings.warn(\"Got non 200 code %s\" % response.status_code)\n",
      "/Users/melaniewalsh/opt/anaconda3/lib/python3.7/site-packages/psaw/PushshiftAPI.py:180: UserWarning: Unable to connect to pushshift.io. Retrying after backoff.\n",
      "  warnings.warn(\"Unable to connect to pushshift.io. Retrying after backoff.\")\n"
     ]
    }
   ],
   "source": [
    "aita_submissions = pd.DataFrame([submission.d_ for submission in api_request_generator])"
   ]
  },
  {
   "cell_type": "markdown",
   "metadata": {},
   "source": [
    "Check how many Reddit posts have been collected:"
   ]
  },
  {
   "cell_type": "code",
   "execution_count": 6,
   "metadata": {},
   "outputs": [
    {
     "data": {
      "text/plain": [
       "(2959, 78)"
      ]
     },
     "execution_count": 6,
     "metadata": {},
     "output_type": "execute_result"
    }
   ],
   "source": [
    "aita_submissions.shape"
   ]
  },
  {
   "cell_type": "markdown",
   "metadata": {},
   "source": [
    "Check what columns/metdata exist in this data:"
   ]
  },
  {
   "cell_type": "code",
   "execution_count": 7,
   "metadata": {},
   "outputs": [
    {
     "data": {
      "text/plain": [
       "Index(['all_awardings', 'allow_live_comments', 'author',\n",
       "       'author_flair_css_class', 'author_flair_richtext', 'author_flair_text',\n",
       "       'author_flair_type', 'author_fullname', 'author_patreon_flair',\n",
       "       'author_premium', 'awarders', 'can_mod_post', 'contest_mode',\n",
       "       'created_utc', 'domain', 'edited', 'full_link', 'gildings', 'id',\n",
       "       'is_crosspostable', 'is_meta', 'is_original_content',\n",
       "       'is_reddit_media_domain', 'is_robot_indexable', 'is_self', 'is_video',\n",
       "       'link_flair_background_color', 'link_flair_richtext',\n",
       "       'link_flair_text_color', 'link_flair_type', 'locked', 'media_only',\n",
       "       'no_follow', 'num_comments', 'num_crossposts', 'over_18',\n",
       "       'parent_whitelist_status', 'permalink', 'pinned', 'pwls',\n",
       "       'retrieved_on', 'score', 'selftext', 'send_replies', 'spoiler',\n",
       "       'stickied', 'subreddit', 'subreddit_id', 'subreddit_subscribers',\n",
       "       'subreddit_type', 'suggested_sort', 'thumbnail', 'title',\n",
       "       'total_awards_received', 'treatment_tags', 'upvote_ratio', 'url',\n",
       "       'whitelist_status', 'wls', 'created', 'gilded', 'top_awarded_type',\n",
       "       'removed_by_category', 'link_flair_template_id', 'link_flair_text',\n",
       "       'author_flair_background_color', 'author_flair_text_color', 'post_hint',\n",
       "       'preview', 'author_flair_template_id', 'link_flair_css_class',\n",
       "       'banned_by', 'steward_reports', 'updated_utc', 'og_description',\n",
       "       'og_title', 'author_cakeday', 'rte_mode'],\n",
       "      dtype='object')"
      ]
     },
     "execution_count": 7,
     "metadata": {},
     "output_type": "execute_result"
    }
   ],
   "source": [
    "aita_submissions.columns"
   ]
  },
  {
   "cell_type": "code",
   "execution_count": 8,
   "metadata": {},
   "outputs": [
    {
     "data": {
      "text/html": [
       "<div>\n",
       "<style scoped>\n",
       "    .dataframe tbody tr th:only-of-type {\n",
       "        vertical-align: middle;\n",
       "    }\n",
       "\n",
       "    .dataframe tbody tr th {\n",
       "        vertical-align: top;\n",
       "    }\n",
       "\n",
       "    .dataframe thead th {\n",
       "        text-align: right;\n",
       "    }\n",
       "</style>\n",
       "<table border=\"1\" class=\"dataframe\">\n",
       "  <thead>\n",
       "    <tr style=\"text-align: right;\">\n",
       "      <th></th>\n",
       "      <th>title</th>\n",
       "      <th>score</th>\n",
       "    </tr>\n",
       "  </thead>\n",
       "  <tbody>\n",
       "    <tr>\n",
       "      <th>2002</th>\n",
       "      <td>AITA for cooking my Muslim date non halal meal after he said he doesn’t eat halal? my friends think I’m a major ass.</td>\n",
       "      <td>14669</td>\n",
       "    </tr>\n",
       "    <tr>\n",
       "      <th>2513</th>\n",
       "      <td>AITA for thinking my girlfriend sleeping with her dad is inappropriate?</td>\n",
       "      <td>7864</td>\n",
       "    </tr>\n",
       "    <tr>\n",
       "      <th>1098</th>\n",
       "      <td>AITA for keeping my father's love child a secret?</td>\n",
       "      <td>9130</td>\n",
       "    </tr>\n",
       "    <tr>\n",
       "      <th>880</th>\n",
       "      <td>AITA for wanting to work out when I get home from work?</td>\n",
       "      <td>3785</td>\n",
       "    </tr>\n",
       "    <tr>\n",
       "      <th>2706</th>\n",
       "      <td>AITA for telling a girl that she’s not “just being honest”, she’s just being a bitch?</td>\n",
       "      <td>16531</td>\n",
       "    </tr>\n",
       "    <tr>\n",
       "      <th>1999</th>\n",
       "      <td>AITA for showing up at my cousin's wedding in a hoodie and jean shorts?</td>\n",
       "      <td>17238</td>\n",
       "    </tr>\n",
       "    <tr>\n",
       "      <th>2624</th>\n",
       "      <td>AITAH for pressing charges against my pregnant best friend?</td>\n",
       "      <td>3420</td>\n",
       "    </tr>\n",
       "    <tr>\n",
       "      <th>2319</th>\n",
       "      <td>WIBTA for getting an annulment after my wife told me about her previous history of abuse the day after we married?</td>\n",
       "      <td>5623</td>\n",
       "    </tr>\n",
       "    <tr>\n",
       "      <th>99</th>\n",
       "      <td>AITA For snapping at my husband this morning because he makes fun of my weight.</td>\n",
       "      <td>6997</td>\n",
       "    </tr>\n",
       "    <tr>\n",
       "      <th>1212</th>\n",
       "      <td>AITA for not letting my sister and her baby live with me?</td>\n",
       "      <td>4628</td>\n",
       "    </tr>\n",
       "  </tbody>\n",
       "</table>\n",
       "</div>"
      ],
      "text/plain": [
       "                                                                                                                     title  \\\n",
       "2002  AITA for cooking my Muslim date non halal meal after he said he doesn’t eat halal? my friends think I’m a major ass.   \n",
       "2513                                               AITA for thinking my girlfriend sleeping with her dad is inappropriate?   \n",
       "1098                                                                     AITA for keeping my father's love child a secret?   \n",
       "880                                                                AITA for wanting to work out when I get home from work?   \n",
       "2706                                 AITA for telling a girl that she’s not “just being honest”, she’s just being a bitch?   \n",
       "1999                                               AITA for showing up at my cousin's wedding in a hoodie and jean shorts?   \n",
       "2624                                                           AITAH for pressing charges against my pregnant best friend?   \n",
       "2319    WIBTA for getting an annulment after my wife told me about her previous history of abuse the day after we married?   \n",
       "99                                         AITA For snapping at my husband this morning because he makes fun of my weight.   \n",
       "1212                                                             AITA for not letting my sister and her baby live with me?   \n",
       "\n",
       "      score  \n",
       "2002  14669  \n",
       "2513   7864  \n",
       "1098   9130  \n",
       "880    3785  \n",
       "2706  16531  \n",
       "1999  17238  \n",
       "2624   3420  \n",
       "2319   5623  \n",
       "99     6997  \n",
       "1212   4628  "
      ]
     },
     "execution_count": 8,
     "metadata": {},
     "output_type": "execute_result"
    }
   ],
   "source": [
    "aita_submissions[['title', 'score']].sample(10)"
   ]
  },
  {
   "cell_type": "markdown",
   "metadata": {},
   "source": [
    "Select columns of interest"
   ]
  },
  {
   "cell_type": "code",
   "execution_count": 12,
   "metadata": {
    "scrolled": true,
    "tags": [
     "output_scroll"
    ]
   },
   "outputs": [
    {
     "data": {
      "text/html": [
       "<div>\n",
       "<style scoped>\n",
       "    .dataframe tbody tr th:only-of-type {\n",
       "        vertical-align: middle;\n",
       "    }\n",
       "\n",
       "    .dataframe tbody tr th {\n",
       "        vertical-align: top;\n",
       "    }\n",
       "\n",
       "    .dataframe thead th {\n",
       "        text-align: right;\n",
       "    }\n",
       "</style>\n",
       "<table border=\"1\" class=\"dataframe\">\n",
       "  <thead>\n",
       "    <tr style=\"text-align: right;\">\n",
       "      <th></th>\n",
       "      <th>author</th>\n",
       "      <th>title</th>\n",
       "      <th>selftext</th>\n",
       "      <th>url</th>\n",
       "      <th>subreddit</th>\n",
       "      <th>score</th>\n",
       "      <th>num_comments</th>\n",
       "      <th>num_crossposts</th>\n",
       "    </tr>\n",
       "  </thead>\n",
       "  <tbody>\n",
       "    <tr>\n",
       "      <th>0</th>\n",
       "      <td>stolen-ideas</td>\n",
       "      <td>WIBTA if I sue my SIL for stealing my book and making a huge profit from it?</td>\n",
       "      <td>I (24f) write as a hobby, and I like sharing my short stories with my small following. I do want to publish one day, but I want to make it perfect first since it's not edited yet.\\n\\nThe unfinished book we're talking about came from an idea that I started to build when I was in middle school. I just finished it last year, but because of the virus, I was forced to put that project aside to ensure steady employment with my day job.\\n\\nMy brother and SIL came to visit me to introduce their baby...</td>\n",
       "      <td>https://www.reddit.com/r/AmItheAsshole/comments/is9p55/wibta_if_i_sue_my_sil_for_stealing_my_book_and/</td>\n",
       "      <td>AmItheAsshole</td>\n",
       "      <td>2128</td>\n",
       "      <td>1176</td>\n",
       "      <td>2</td>\n",
       "    </tr>\n",
       "    <tr>\n",
       "      <th>1</th>\n",
       "      <td>Current_Task9048</td>\n",
       "      <td>AITA for ignoring SIL's apology for a prank gone wrong?</td>\n",
       "      <td>My MIL is not allowed to be alone with my son for a variety of reasons. She is very unstable and manipulative. SIL (not daughter, also married in) does not have the same experience at all and adores MIL. I know SIL thinks i am being over dramatic, but she had never undermined me before.\\n\\nThe other day i got a text from SIL saying that my husband had dropped off our son with MIL. I immediately panicked and contacted my husband but he wasn't picking up (he was actually at his dad's house and...</td>\n",
       "      <td>https://www.reddit.com/r/AmItheAsshole/comments/is92vb/aita_for_ignoring_sils_apology_for_a_prank_gone/</td>\n",
       "      <td>AmItheAsshole</td>\n",
       "      <td>2012</td>\n",
       "      <td>1305</td>\n",
       "      <td>0</td>\n",
       "    </tr>\n",
       "    <tr>\n",
       "      <th>2</th>\n",
       "      <td>TheJellyTypewriter</td>\n",
       "      <td>WIBTA for hiding a family heirloom, so my dad can't give it to his fiance?</td>\n",
       "      <td>My great-grandmother was an exceptional embroiderer. She would cover massive canvasses. She never taught me,( I taught myself later in life)  but I loved seeing her work when we went to her house. She died when I was 14. A few years ago, my grandmother gave our family one of her final pieces for Christmas, it's been hanging in the stairway ever since. \\n\\nLast year my father started dating this horribly toxic woman, who in 6 months had destroyed my dad's relationships with all his children, ...</td>\n",
       "      <td>https://www.reddit.com/r/AmItheAsshole/comments/is6yg8/wibta_for_hiding_a_family_heirloom_so_my_dad_cant/</td>\n",
       "      <td>AmItheAsshole</td>\n",
       "      <td>5028</td>\n",
       "      <td>1184</td>\n",
       "      <td>0</td>\n",
       "    </tr>\n",
       "    <tr>\n",
       "      <th>3</th>\n",
       "      <td>Throwawayolderbro534</td>\n",
       "      <td>AITA for cutting my elderly parents off financially after they kicked out my gay brother?</td>\n",
       "      <td>Throwaway because a lot of my friends use Reddit.\\n\\nI’m a 24 year old software engineer originally from an Arab Muslim country. I moved to the United States with my parents when I was five years old, and my younger brother was born here. He is now 16.\\n\\nA year ago, my brother came out to me as gay. It wasn’t a surprise to me, I’ve always been very close to my brother. We grew up in a majority white town and my brother was picked on frequently as a kid for being Arab, and on top of that he’...</td>\n",
       "      <td>https://www.reddit.com/r/AmItheAsshole/comments/is55v4/aita_for_cutting_my_elderly_parents_off/</td>\n",
       "      <td>AmItheAsshole</td>\n",
       "      <td>21816</td>\n",
       "      <td>3599</td>\n",
       "      <td>2</td>\n",
       "    </tr>\n",
       "    <tr>\n",
       "      <th>4</th>\n",
       "      <td>coffeebobbie</td>\n",
       "      <td>AITA for fencing my property</td>\n",
       "      <td>When my grandmother passed about 10 years ago my family began to use her home as a vacation home.  We've spent the last decade improving the property, which is about twice as big as the neighboring ones because plots were cheaper 50 years ago when my grandmother purchased it. We have a 1/4 acre wooded backyard that has never been fenced.  The neighbors have built a porch up to their property line that overlooks our backyard, and spend quite a bit of time out there.  They have been throwing r...</td>\n",
       "      <td>https://www.reddit.com/r/AmItheAsshole/comments/is2b8p/aita_for_fencing_my_property/</td>\n",
       "      <td>AmItheAsshole</td>\n",
       "      <td>2186</td>\n",
       "      <td>618</td>\n",
       "      <td>0</td>\n",
       "    </tr>\n",
       "    <tr>\n",
       "      <th>...</th>\n",
       "      <td>...</td>\n",
       "      <td>...</td>\n",
       "      <td>...</td>\n",
       "      <td>...</td>\n",
       "      <td>...</td>\n",
       "      <td>...</td>\n",
       "      <td>...</td>\n",
       "      <td>...</td>\n",
       "    </tr>\n",
       "    <tr>\n",
       "      <th>2954</th>\n",
       "      <td>BackgroundJellyfish</td>\n",
       "      <td>AITA for hitting my girlfriend out of reflex for her scaring me?</td>\n",
       "      <td>Hi, so my girlfriend and i watched a horror movie recently, called The Last Exorcism. Now keep in mind, i HATE horror, i get very scared easily. but she likes horror, and practically begged me to watch it with her. So, i did watch it, and have been very jumpy lately. It was pretty scary, because horror movies have always given me nightmares.\\n\\n\\nMy girlfriend, however, thinks it's funny how i am. She has picked up me bad habit. She likes to sneak up behind me and make a loud noise to startl...</td>\n",
       "      <td>https://www.reddit.com/r/AmItheAsshole/comments/9bxoro/aita_for_hitting_my_girlfriend_out_of_reflex_for/</td>\n",
       "      <td>AmItheAsshole</td>\n",
       "      <td>2719</td>\n",
       "      <td>405</td>\n",
       "      <td>1</td>\n",
       "    </tr>\n",
       "    <tr>\n",
       "      <th>2955</th>\n",
       "      <td>Marylebone_Road</td>\n",
       "      <td>AITA for thinking that this sub is only so people can have their decisions validated and never actually post something assholish they've done?</td>\n",
       "      <td></td>\n",
       "      <td>https://www.reddit.com/r/AmItheAsshole/comments/9blev1/aita_for_thinking_that_this_sub_is_only_so_people/</td>\n",
       "      <td>AmItheAsshole</td>\n",
       "      <td>2001</td>\n",
       "      <td>104</td>\n",
       "      <td>0</td>\n",
       "    </tr>\n",
       "    <tr>\n",
       "      <th>2956</th>\n",
       "      <td>treefiddyfive</td>\n",
       "      <td>AITA for not believing my daughter is non-binary?</td>\n",
       "      <td>Recently my daughter has 'come out' to me as non binary, meaning that she supposedly does not believe she is a man or a woman. I heard her out and let her speak, and tried to calmly ask her how she has come to this conclusion. The conversation was civil until I told her I did not believe she is anything but a woman. At this point, she started crying, calling me a bigot, and my wife had to take over. My wife tells me I am being insensitive. \\n\\n\\nThey want me to refer to them as 'they', which...</td>\n",
       "      <td>https://www.reddit.com/r/AmItheAsshole/comments/9aeeed/aita_for_not_believing_my_daughter_is_nonbinary/</td>\n",
       "      <td>AmItheAsshole</td>\n",
       "      <td>2068</td>\n",
       "      <td>905</td>\n",
       "      <td>3</td>\n",
       "    </tr>\n",
       "    <tr>\n",
       "      <th>2957</th>\n",
       "      <td>grizzythekid</td>\n",
       "      <td>AITA for throwing a soda on the ground near the dude I bought it for?</td>\n",
       "      <td>I was going to McDonald's for a quick bite to go, when a drunk maybe homeless, definitely in some state guy asked if I could but him a burger. I said sure, having been drunk plenty of times myself, I know a burger hits the spot when you're on one. So I buy two big cheeseburger meals, and walk out. I've got all the food in a bag, and two drinks in the other. I set the drinks down on an outside table and fish out one burger and hand it to him. I set the fries on the table for him, as he his un...</td>\n",
       "      <td>https://www.reddit.com/r/AmItheAsshole/comments/8s56a3/aita_for_throwing_a_soda_on_the_ground_near_the/</td>\n",
       "      <td>AmItheAsshole</td>\n",
       "      <td>3532</td>\n",
       "      <td>90</td>\n",
       "      <td>0</td>\n",
       "    </tr>\n",
       "    <tr>\n",
       "      <th>2958</th>\n",
       "      <td>Pettheftthrow</td>\n",
       "      <td>AITA for refusing to return a lost pet?</td>\n",
       "      <td>So over two years ago a cat appeared in my yard. He was skinny, skittish, unneutered, and had a serious abscess on his rump, likely from a cat bite wound. I took him to the vet that night and had him treated. The vet estimated he was about six months old.\\n\\nI called the local county shelters to file a found cat report. I also posted on Craigslist, posted his info at local vet offices, and kept an eye out for flyers. He was scanned for a microchip and didn't have one. \\n\\nAt that point I did...</td>\n",
       "      <td>https://www.reddit.com/r/AmItheAsshole/comments/8ikrb0/aita_for_refusing_to_return_a_lost_pet/</td>\n",
       "      <td>AmItheAsshole</td>\n",
       "      <td>2387</td>\n",
       "      <td>169</td>\n",
       "      <td>0</td>\n",
       "    </tr>\n",
       "  </tbody>\n",
       "</table>\n",
       "<p>2959 rows × 8 columns</p>\n",
       "</div>"
      ],
      "text/plain": [
       "                    author  \\\n",
       "0             stolen-ideas   \n",
       "1         Current_Task9048   \n",
       "2       TheJellyTypewriter   \n",
       "3     Throwawayolderbro534   \n",
       "4             coffeebobbie   \n",
       "...                    ...   \n",
       "2954   BackgroundJellyfish   \n",
       "2955       Marylebone_Road   \n",
       "2956         treefiddyfive   \n",
       "2957          grizzythekid   \n",
       "2958         Pettheftthrow   \n",
       "\n",
       "                                                                                                                                               title  \\\n",
       "0                                                                       WIBTA if I sue my SIL for stealing my book and making a huge profit from it?   \n",
       "1                                                                                            AITA for ignoring SIL's apology for a prank gone wrong?   \n",
       "2                                                                         WIBTA for hiding a family heirloom, so my dad can't give it to his fiance?   \n",
       "3                                                          AITA for cutting my elderly parents off financially after they kicked out my gay brother?   \n",
       "4                                                                                                                       AITA for fencing my property   \n",
       "...                                                                                                                                              ...   \n",
       "2954                                                                                AITA for hitting my girlfriend out of reflex for her scaring me?   \n",
       "2955  AITA for thinking that this sub is only so people can have their decisions validated and never actually post something assholish they've done?   \n",
       "2956                                                                                               AITA for not believing my daughter is non-binary?   \n",
       "2957                                                                           AITA for throwing a soda on the ground near the dude I bought it for?   \n",
       "2958                                                                                                         AITA for refusing to return a lost pet?   \n",
       "\n",
       "                                                                                                                                                                                                                                                                                                                                                                                                                                                                                                                 selftext  \\\n",
       "0     I (24f) write as a hobby, and I like sharing my short stories with my small following. I do want to publish one day, but I want to make it perfect first since it's not edited yet.\\n\\nThe unfinished book we're talking about came from an idea that I started to build when I was in middle school. I just finished it last year, but because of the virus, I was forced to put that project aside to ensure steady employment with my day job.\\n\\nMy brother and SIL came to visit me to introduce their baby...   \n",
       "1     My MIL is not allowed to be alone with my son for a variety of reasons. She is very unstable and manipulative. SIL (not daughter, also married in) does not have the same experience at all and adores MIL. I know SIL thinks i am being over dramatic, but she had never undermined me before.\\n\\nThe other day i got a text from SIL saying that my husband had dropped off our son with MIL. I immediately panicked and contacted my husband but he wasn't picking up (he was actually at his dad's house and...   \n",
       "2     My great-grandmother was an exceptional embroiderer. She would cover massive canvasses. She never taught me,( I taught myself later in life)  but I loved seeing her work when we went to her house. She died when I was 14. A few years ago, my grandmother gave our family one of her final pieces for Christmas, it's been hanging in the stairway ever since. \\n\\nLast year my father started dating this horribly toxic woman, who in 6 months had destroyed my dad's relationships with all his children, ...   \n",
       "3     Throwaway because a lot of my friends use Reddit.\\n\\nI’m a 24 year old software engineer originally from an Arab Muslim country. I moved to the United States with my parents when I was five years old, and my younger brother was born here. He is now 16.\\n\\nA year ago, my brother came out to me as gay. It wasn’t a surprise to me, I’ve always been very close to my brother. We grew up in a majority white town and my brother was picked on frequently as a kid for being Arab, and on top of that he’...   \n",
       "4     When my grandmother passed about 10 years ago my family began to use her home as a vacation home.  We've spent the last decade improving the property, which is about twice as big as the neighboring ones because plots were cheaper 50 years ago when my grandmother purchased it. We have a 1/4 acre wooded backyard that has never been fenced.  The neighbors have built a porch up to their property line that overlooks our backyard, and spend quite a bit of time out there.  They have been throwing r...   \n",
       "...                                                                                                                                                                                                                                                                                                                                                                                                                                                                                                                   ...   \n",
       "2954  Hi, so my girlfriend and i watched a horror movie recently, called The Last Exorcism. Now keep in mind, i HATE horror, i get very scared easily. but she likes horror, and practically begged me to watch it with her. So, i did watch it, and have been very jumpy lately. It was pretty scary, because horror movies have always given me nightmares.\\n\\n\\nMy girlfriend, however, thinks it's funny how i am. She has picked up me bad habit. She likes to sneak up behind me and make a loud noise to startl...   \n",
       "2955                                                                                                                                                                                                                                                                                                                                                                                                                                                                                                                        \n",
       "2956  Recently my daughter has 'come out' to me as non binary, meaning that she supposedly does not believe she is a man or a woman. I heard her out and let her speak, and tried to calmly ask her how she has come to this conclusion. The conversation was civil until I told her I did not believe she is anything but a woman. At this point, she started crying, calling me a bigot, and my wife had to take over. My wife tells me I am being insensitive. \\n\\n\\nThey want me to refer to them as 'they', which...   \n",
       "2957  I was going to McDonald's for a quick bite to go, when a drunk maybe homeless, definitely in some state guy asked if I could but him a burger. I said sure, having been drunk plenty of times myself, I know a burger hits the spot when you're on one. So I buy two big cheeseburger meals, and walk out. I've got all the food in a bag, and two drinks in the other. I set the drinks down on an outside table and fish out one burger and hand it to him. I set the fries on the table for him, as he his un...   \n",
       "2958  So over two years ago a cat appeared in my yard. He was skinny, skittish, unneutered, and had a serious abscess on his rump, likely from a cat bite wound. I took him to the vet that night and had him treated. The vet estimated he was about six months old.\\n\\nI called the local county shelters to file a found cat report. I also posted on Craigslist, posted his info at local vet offices, and kept an eye out for flyers. He was scanned for a microchip and didn't have one. \\n\\nAt that point I did...   \n",
       "\n",
       "                                                                                                            url  \\\n",
       "0        https://www.reddit.com/r/AmItheAsshole/comments/is9p55/wibta_if_i_sue_my_sil_for_stealing_my_book_and/   \n",
       "1       https://www.reddit.com/r/AmItheAsshole/comments/is92vb/aita_for_ignoring_sils_apology_for_a_prank_gone/   \n",
       "2     https://www.reddit.com/r/AmItheAsshole/comments/is6yg8/wibta_for_hiding_a_family_heirloom_so_my_dad_cant/   \n",
       "3               https://www.reddit.com/r/AmItheAsshole/comments/is55v4/aita_for_cutting_my_elderly_parents_off/   \n",
       "4                          https://www.reddit.com/r/AmItheAsshole/comments/is2b8p/aita_for_fencing_my_property/   \n",
       "...                                                                                                         ...   \n",
       "2954   https://www.reddit.com/r/AmItheAsshole/comments/9bxoro/aita_for_hitting_my_girlfriend_out_of_reflex_for/   \n",
       "2955  https://www.reddit.com/r/AmItheAsshole/comments/9blev1/aita_for_thinking_that_this_sub_is_only_so_people/   \n",
       "2956    https://www.reddit.com/r/AmItheAsshole/comments/9aeeed/aita_for_not_believing_my_daughter_is_nonbinary/   \n",
       "2957    https://www.reddit.com/r/AmItheAsshole/comments/8s56a3/aita_for_throwing_a_soda_on_the_ground_near_the/   \n",
       "2958             https://www.reddit.com/r/AmItheAsshole/comments/8ikrb0/aita_for_refusing_to_return_a_lost_pet/   \n",
       "\n",
       "          subreddit  score  num_comments  num_crossposts  \n",
       "0     AmItheAsshole   2128          1176               2  \n",
       "1     AmItheAsshole   2012          1305               0  \n",
       "2     AmItheAsshole   5028          1184               0  \n",
       "3     AmItheAsshole  21816          3599               2  \n",
       "4     AmItheAsshole   2186           618               0  \n",
       "...             ...    ...           ...             ...  \n",
       "2954  AmItheAsshole   2719           405               1  \n",
       "2955  AmItheAsshole   2001           104               0  \n",
       "2956  AmItheAsshole   2068           905               3  \n",
       "2957  AmItheAsshole   3532            90               0  \n",
       "2958  AmItheAsshole   2387           169               0  \n",
       "\n",
       "[2959 rows x 8 columns]"
      ]
     },
     "execution_count": 12,
     "metadata": {},
     "output_type": "execute_result"
    }
   ],
   "source": [
    "aita_submissions[['author', 'title', 'selftext', 'url', 'subreddit', 'score', 'num_comments', 'num_crossposts']]"
   ]
  },
  {
   "cell_type": "markdown",
   "metadata": {},
   "source": [
    "Output to CSV file"
   ]
  },
  {
   "cell_type": "code",
   "execution_count": 14,
   "metadata": {},
   "outputs": [],
   "source": [
    "aita_submissions[['author', 'title', 'selftext', 'url', 'subreddit', 'score', 'num_comments', 'num_crossposts']].to_csv(\"top_aita_submissions.csv\", encoding='utf-8', index=False)"
   ]
  },
  {
   "cell_type": "markdown",
   "metadata": {},
   "source": [
    "## Collect Reddit submissions based on search keyword (with more than a certain upvote score)"
   ]
  },
  {
   "cell_type": "markdown",
   "metadata": {},
   "source": [
    "Set up generator to make API request"
   ]
  },
  {
   "cell_type": "code",
   "execution_count": 15,
   "metadata": {},
   "outputs": [],
   "source": [
    "api_request_generator = api.search_submissions(q='Cornell', score = \">2000\")"
   ]
  },
  {
   "cell_type": "markdown",
   "metadata": {},
   "source": [
    "Grab data for each Reddit submission and make into a DataFrame"
   ]
  },
  {
   "cell_type": "code",
   "execution_count": 16,
   "metadata": {},
   "outputs": [],
   "source": [
    "cornell_submissions = pd.DataFrame([submission.d_ for submission in api_request_generator])"
   ]
  },
  {
   "cell_type": "code",
   "execution_count": 17,
   "metadata": {},
   "outputs": [
    {
     "data": {
      "text/plain": [
       "(112, 83)"
      ]
     },
     "execution_count": 17,
     "metadata": {},
     "output_type": "execute_result"
    }
   ],
   "source": [
    "cornell_submissions.shape"
   ]
  },
  {
   "cell_type": "code",
   "execution_count": 18,
   "metadata": {
    "scrolled": true,
    "tags": [
     "output_scroll"
    ]
   },
   "outputs": [
    {
     "data": {
      "text/html": [
       "<div>\n",
       "<style scoped>\n",
       "    .dataframe tbody tr th:only-of-type {\n",
       "        vertical-align: middle;\n",
       "    }\n",
       "\n",
       "    .dataframe tbody tr th {\n",
       "        vertical-align: top;\n",
       "    }\n",
       "\n",
       "    .dataframe thead th {\n",
       "        text-align: right;\n",
       "    }\n",
       "</style>\n",
       "<table border=\"1\" class=\"dataframe\">\n",
       "  <thead>\n",
       "    <tr style=\"text-align: right;\">\n",
       "      <th></th>\n",
       "      <th>author</th>\n",
       "      <th>title</th>\n",
       "      <th>selftext</th>\n",
       "      <th>url</th>\n",
       "      <th>subreddit</th>\n",
       "      <th>score</th>\n",
       "      <th>num_comments</th>\n",
       "      <th>num_crossposts</th>\n",
       "    </tr>\n",
       "  </thead>\n",
       "  <tbody>\n",
       "    <tr>\n",
       "      <th>0</th>\n",
       "      <td>the_light_of_dawn</td>\n",
       "      <td>Reggie's Lecture At Cornell: Reggie Calls Wii U A \"Failure Forward\" Because It Led To Switch</td>\n",
       "      <td></td>\n",
       "      <td>https://www.resetera.com/threads/reggies-lecture-at-cornell-the-thread.148387/#post-25675346</td>\n",
       "      <td>NintendoSwitch</td>\n",
       "      <td>3410</td>\n",
       "      <td>363</td>\n",
       "      <td>0.0</td>\n",
       "    </tr>\n",
       "    <tr>\n",
       "      <th>1</th>\n",
       "      <td>evaee00</td>\n",
       "      <td>Can you please not apply to Cornell? My son wants to apply there too!</td>\n",
       "      <td>So this is a story that happened to my friend this year and I am honestly so shocked by this.\\n\\nSo basically my friend is a regular good student at school, has amazing after school activities, and is student government president. She also has a perfect SAT score.\\n\\nIt has been my friends dream to go to Cornell. Both her parents went and she has been in love with it for years.\\n\\nNow enter entitled mom and entitled son.\\n\\nMy friend’s mother gets a call on her mobile from the entitled mom.\\...</td>\n",
       "      <td>https://www.reddit.com/r/entitledparents/comments/de5ngd/can_you_please_not_apply_to_cornell_my_son_wants/</td>\n",
       "      <td>entitledparents</td>\n",
       "      <td>11375</td>\n",
       "      <td>241</td>\n",
       "      <td>0.0</td>\n",
       "    </tr>\n",
       "    <tr>\n",
       "      <th>2</th>\n",
       "      <td>MistWeaver80</td>\n",
       "      <td>New research from Cornell University shows that plants can communicate with each other when they come under attack from pests. Plants share messages in the form of airborne chemicals known as volatile organic compounds (VOCs) that transfer information among plants.</td>\n",
       "      <td></td>\n",
       "      <td>https://www.cell.com/current-biology/fulltext/S0960-9822(19)31027-9?_returnURL=https%3A%2F%2Flinkinghub.elsevier.com%2Fretrieve%2Fpii%2FS0960982219310279%3Fshowall%3Dtrue</td>\n",
       "      <td>science</td>\n",
       "      <td>3651</td>\n",
       "      <td>237</td>\n",
       "      <td>0.0</td>\n",
       "    </tr>\n",
       "    <tr>\n",
       "      <th>3</th>\n",
       "      <td>BoomWhatWhat</td>\n",
       "      <td>Cornell will eliminate medical school debt for all students who qualify for financial aid, starting this fall</td>\n",
       "      <td></td>\n",
       "      <td>https://www.cnn.com/2019/09/17/us/cornell-scholarship-financial-aid-trnd/index.html</td>\n",
       "      <td>news</td>\n",
       "      <td>44406</td>\n",
       "      <td>2220</td>\n",
       "      <td>0.0</td>\n",
       "    </tr>\n",
       "    <tr>\n",
       "      <th>4</th>\n",
       "      <td>SirCSquared</td>\n",
       "      <td>I took this photo at the last Soundgarden concert. Chris Cornell took his life that night.</td>\n",
       "      <td></td>\n",
       "      <td>https://i.redd.it/op394mbhgkd31.jpg</td>\n",
       "      <td>lastimages</td>\n",
       "      <td>4759</td>\n",
       "      <td>185</td>\n",
       "      <td>0.0</td>\n",
       "    </tr>\n",
       "    <tr>\n",
       "      <th>...</th>\n",
       "      <td>...</td>\n",
       "      <td>...</td>\n",
       "      <td>...</td>\n",
       "      <td>...</td>\n",
       "      <td>...</td>\n",
       "      <td>...</td>\n",
       "      <td>...</td>\n",
       "      <td>...</td>\n",
       "    </tr>\n",
       "    <tr>\n",
       "      <th>107</th>\n",
       "      <td>vinitmodi7</td>\n",
       "      <td>Found This at Cornell Campus</td>\n",
       "      <td></td>\n",
       "      <td>http://i.imgur.com/8o7l3rs.jpg</td>\n",
       "      <td>funny</td>\n",
       "      <td>2442</td>\n",
       "      <td>178</td>\n",
       "      <td>NaN</td>\n",
       "    </tr>\n",
       "    <tr>\n",
       "      <th>108</th>\n",
       "      <td>CUAskAnAstronomer</td>\n",
       "      <td>We are Cornell University's Ask An Astronomer Team. Ask Us Anything!</td>\n",
       "      <td>Hi Reddit!\\n\\nWe are the Ask an Astronomer Team at Cornell University. We are a team of graduate students within the Department of Astronomy that volunteers time to answer questions from the public, both online and in various events hosted throughout the city of Ithaca, NY. Our [website](http://curious.astro.cornell.edu) describes what we do and how to contact us.\\n\\nWhenever a popular article is posted about astronomy on Reddit, we notice that a lot of questions float around typically. A fe...</td>\n",
       "      <td>http://www.reddit.com/r/IAmA/comments/1iuc2i/we_are_cornell_universitys_ask_an_astronomer_team/</td>\n",
       "      <td>IAmA</td>\n",
       "      <td>2010</td>\n",
       "      <td>1168</td>\n",
       "      <td>NaN</td>\n",
       "    </tr>\n",
       "    <tr>\n",
       "      <th>109</th>\n",
       "      <td>ChrisCornellSG</td>\n",
       "      <td>Hey Reddit, I'm Chris Cornell from Soundgarden. AMA in 45 min!</td>\n",
       "      <td>Soundgarden will be on tour this May: [tour info](http://soundgardenworld.com/second-leg-of-us-tour/)  \\n  \\nAnd we put out our first album in over 15 years last November: [King Animal](http://en.wikipedia.org/wiki/King_Animal)  \\n  \\n[Twitter Proof 1] (https://twitter.com/soundgarden/status/321342408791044096)  \\n[Twitter Proof 2] (https://twitter.com/chriscornell/status/321341541685813248)  \\n  \\nThanks everyone! That was great! See you out at the shows.</td>\n",
       "      <td>http://www.reddit.com/r/IAmA/comments/1bxp4f/hey_reddit_im_chris_cornell_from_soundgarden_ama/</td>\n",
       "      <td>IAmA</td>\n",
       "      <td>2264</td>\n",
       "      <td>2562</td>\n",
       "      <td>NaN</td>\n",
       "    </tr>\n",
       "    <tr>\n",
       "      <th>110</th>\n",
       "      <td>pendulumlover</td>\n",
       "      <td>Found this on a water fountain at Cornell...</td>\n",
       "      <td></td>\n",
       "      <td>http://i.imgur.com/XA3Pbl2.jpg</td>\n",
       "      <td>funny</td>\n",
       "      <td>2121</td>\n",
       "      <td>257</td>\n",
       "      <td>NaN</td>\n",
       "    </tr>\n",
       "    <tr>\n",
       "      <th>111</th>\n",
       "      <td>frogmentation</td>\n",
       "      <td>Cornell study discovers parrots name their chicks</td>\n",
       "      <td></td>\n",
       "      <td>http://www.news.cornell.edu/stories/July11/ParrotNaming.html</td>\n",
       "      <td>science</td>\n",
       "      <td>2221</td>\n",
       "      <td>177</td>\n",
       "      <td>NaN</td>\n",
       "    </tr>\n",
       "  </tbody>\n",
       "</table>\n",
       "<p>112 rows × 8 columns</p>\n",
       "</div>"
      ],
      "text/plain": [
       "                author  \\\n",
       "0    the_light_of_dawn   \n",
       "1              evaee00   \n",
       "2         MistWeaver80   \n",
       "3         BoomWhatWhat   \n",
       "4          SirCSquared   \n",
       "..                 ...   \n",
       "107         vinitmodi7   \n",
       "108  CUAskAnAstronomer   \n",
       "109     ChrisCornellSG   \n",
       "110      pendulumlover   \n",
       "111      frogmentation   \n",
       "\n",
       "                                                                                                                                                                                                                                                                         title  \\\n",
       "0                                                                                                                                                                                 Reggie's Lecture At Cornell: Reggie Calls Wii U A \"Failure Forward\" Because It Led To Switch   \n",
       "1                                                                                                                                                                                                        Can you please not apply to Cornell? My son wants to apply there too!   \n",
       "2    New research from Cornell University shows that plants can communicate with each other when they come under attack from pests. Plants share messages in the form of airborne chemicals known as volatile organic compounds (VOCs) that transfer information among plants.   \n",
       "3                                                                                                                                                                Cornell will eliminate medical school debt for all students who qualify for financial aid, starting this fall   \n",
       "4                                                                                                                                                                                   I took this photo at the last Soundgarden concert. Chris Cornell took his life that night.   \n",
       "..                                                                                                                                                                                                                                                                         ...   \n",
       "107                                                                                                                                                                                                                                               Found This at Cornell Campus   \n",
       "108                                                                                                                                                                                                       We are Cornell University's Ask An Astronomer Team. Ask Us Anything!   \n",
       "109                                                                                                                                                                                                             Hey Reddit, I'm Chris Cornell from Soundgarden. AMA in 45 min!   \n",
       "110                                                                                                                                                                                                                               Found this on a water fountain at Cornell...   \n",
       "111                                                                                                                                                                                                                          Cornell study discovers parrots name their chicks   \n",
       "\n",
       "                                                                                                                                                                                                                                                                                                                                                                                                                                                                                                                selftext  \\\n",
       "0                                                                                                                                                                                                                                                                                                                                                                                                                                                                                                                          \n",
       "1    So this is a story that happened to my friend this year and I am honestly so shocked by this.\\n\\nSo basically my friend is a regular good student at school, has amazing after school activities, and is student government president. She also has a perfect SAT score.\\n\\nIt has been my friends dream to go to Cornell. Both her parents went and she has been in love with it for years.\\n\\nNow enter entitled mom and entitled son.\\n\\nMy friend’s mother gets a call on her mobile from the entitled mom.\\...   \n",
       "2                                                                                                                                                                                                                                                                                                                                                                                                                                                                                                                          \n",
       "3                                                                                                                                                                                                                                                                                                                                                                                                                                                                                                                          \n",
       "4                                                                                                                                                                                                                                                                                                                                                                                                                                                                                                                          \n",
       "..                                                                                                                                                                                                                                                                                                                                                                                                                                                                                                                   ...   \n",
       "107                                                                                                                                                                                                                                                                                                                                                                                                                                                                                                                        \n",
       "108  Hi Reddit!\\n\\nWe are the Ask an Astronomer Team at Cornell University. We are a team of graduate students within the Department of Astronomy that volunteers time to answer questions from the public, both online and in various events hosted throughout the city of Ithaca, NY. Our [website](http://curious.astro.cornell.edu) describes what we do and how to contact us.\\n\\nWhenever a popular article is posted about astronomy on Reddit, we notice that a lot of questions float around typically. A fe...   \n",
       "109                                         Soundgarden will be on tour this May: [tour info](http://soundgardenworld.com/second-leg-of-us-tour/)  \\n  \\nAnd we put out our first album in over 15 years last November: [King Animal](http://en.wikipedia.org/wiki/King_Animal)  \\n  \\n[Twitter Proof 1] (https://twitter.com/soundgarden/status/321342408791044096)  \\n[Twitter Proof 2] (https://twitter.com/chriscornell/status/321341541685813248)  \\n  \\nThanks everyone! That was great! See you out at the shows.   \n",
       "110                                                                                                                                                                                                                                                                                                                                                                                                                                                                                                                        \n",
       "111                                                                                                                                                                                                                                                                                                                                                                                                                                                                                                                        \n",
       "\n",
       "                                                                                                                                                                            url  \\\n",
       "0                                                                                  https://www.resetera.com/threads/reggies-lecture-at-cornell-the-thread.148387/#post-25675346   \n",
       "1                                                                    https://www.reddit.com/r/entitledparents/comments/de5ngd/can_you_please_not_apply_to_cornell_my_son_wants/   \n",
       "2    https://www.cell.com/current-biology/fulltext/S0960-9822(19)31027-9?_returnURL=https%3A%2F%2Flinkinghub.elsevier.com%2Fretrieve%2Fpii%2FS0960982219310279%3Fshowall%3Dtrue   \n",
       "3                                                                                           https://www.cnn.com/2019/09/17/us/cornell-scholarship-financial-aid-trnd/index.html   \n",
       "4                                                                                                                                           https://i.redd.it/op394mbhgkd31.jpg   \n",
       "..                                                                                                                                                                          ...   \n",
       "107                                                                                                                                              http://i.imgur.com/8o7l3rs.jpg   \n",
       "108                                                                             http://www.reddit.com/r/IAmA/comments/1iuc2i/we_are_cornell_universitys_ask_an_astronomer_team/   \n",
       "109                                                                              http://www.reddit.com/r/IAmA/comments/1bxp4f/hey_reddit_im_chris_cornell_from_soundgarden_ama/   \n",
       "110                                                                                                                                              http://i.imgur.com/XA3Pbl2.jpg   \n",
       "111                                                                                                                http://www.news.cornell.edu/stories/July11/ParrotNaming.html   \n",
       "\n",
       "           subreddit  score  num_comments  num_crossposts  \n",
       "0     NintendoSwitch   3410           363             0.0  \n",
       "1    entitledparents  11375           241             0.0  \n",
       "2            science   3651           237             0.0  \n",
       "3               news  44406          2220             0.0  \n",
       "4         lastimages   4759           185             0.0  \n",
       "..               ...    ...           ...             ...  \n",
       "107            funny   2442           178             NaN  \n",
       "108             IAmA   2010          1168             NaN  \n",
       "109             IAmA   2264          2562             NaN  \n",
       "110            funny   2121           257             NaN  \n",
       "111          science   2221           177             NaN  \n",
       "\n",
       "[112 rows x 8 columns]"
      ]
     },
     "execution_count": 18,
     "metadata": {},
     "output_type": "execute_result"
    }
   ],
   "source": [
    "cornell_submissions[['author', 'title', 'selftext', 'url', 'subreddit', 'score', 'num_comments', 'num_crossposts']]"
   ]
  },
  {
   "cell_type": "markdown",
   "metadata": {},
   "source": [
    "Where are the popular \"Cornell\" Reddit posts appearing?"
   ]
  },
  {
   "cell_type": "code",
   "execution_count": 19,
   "metadata": {},
   "outputs": [
    {
     "data": {
      "text/plain": [
       "science                 22\n",
       "IAmA                    11\n",
       "The_Donald               7\n",
       "todayilearned            7\n",
       "Music                    5\n",
       "news                     4\n",
       "SandersForPresident      3\n",
       "videos                   3\n",
       "askscience               3\n",
       "politics                 2\n",
       "movies                   2\n",
       "funny                    2\n",
       "lastimages               2\n",
       "InternetIsBeautiful      2\n",
       "Showerthoughts           2\n",
       "OldSchoolCool            2\n",
       "unpopularopinion         1\n",
       "coolguides               1\n",
       "relationships            1\n",
       "conspiracy               1\n",
       "Damnthatsinteresting     1\n",
       "DunderMifflin            1\n",
       "westworld                1\n",
       "TwoXChromosomes          1\n",
       "AskHistorians            1\n",
       "tattoos                  1\n",
       "Metal                    1\n",
       "AdviceAnimals            1\n",
       "Guitar                   1\n",
       "interestingasfuck        1\n",
       "offmychest               1\n",
       "lego                     1\n",
       "uncensorednews           1\n",
       "HistoryPorn              1\n",
       "entitledparents          1\n",
       "LadyBoners               1\n",
       "EarthPorn                1\n",
       "CFB                      1\n",
       "Awwducational            1\n",
       "NintendoSwitch           1\n",
       "bidenbro                 1\n",
       "KotakuInAction           1\n",
       "RetroFuturism            1\n",
       "reactiongifs             1\n",
       "space                    1\n",
       "vegan                    1\n",
       "pics                     1\n",
       "AmItheAsshole            1\n",
       "SeattleWA                1\n",
       "Name: subreddit, dtype: int64"
      ]
     },
     "execution_count": 19,
     "metadata": {},
     "output_type": "execute_result"
    }
   ],
   "source": [
    "cornell_submissions['subreddit'].value_counts()"
   ]
  },
  {
   "cell_type": "code",
   "execution_count": 20,
   "metadata": {},
   "outputs": [
    {
     "data": {
      "text/plain": [
       "<matplotlib.axes._subplots.AxesSubplot at 0x1196355d0>"
      ]
     },
     "execution_count": 20,
     "metadata": {},
     "output_type": "execute_result"
    },
    {
     "data": {
      "image/png": "[encoded data removed]",
      "text/plain": [
       "<Figure size 432x288 with 1 Axes>"
      ]
     },
     "metadata": {
      "needs_background": "light"
     },
     "output_type": "display_data"
    }
   ],
   "source": [
    "cornell_submissions['subreddit'].value_counts()[:10].plot(kind='bar')"
   ]
  },
  {
   "cell_type": "markdown",
   "metadata": {},
   "source": [
    "## Twitter"
   ]
  },
  {
   "cell_type": "markdown",
   "metadata": {},
   "source": [
    "We're going to collect Twitter data with the Python/command line tool [twarc](https://github.com/DocNow/twarc). This tool was developed by a project called [Documenting the Now](https://www.docnow.io/). The DocNow team develops tools and ethical frameworks for social media research."
   ]
  },
  {
   "cell_type": "code",
   "execution_count": null,
   "metadata": {},
   "outputs": [],
   "source": [
    "!pip install twarc"
   ]
  },
  {
   "cell_type": "markdown",
   "metadata": {},
   "source": [
    "## Twitter API Keys"
   ]
  },
  {
   "cell_type": "markdown",
   "metadata": {},
   "source": [
    "Because twarc relies on Twitter's API, we need to apply for a Twitter developer account and create a Twitter application before we use it. You can find instructions for the application process and for installing and configuring twarc here: [Twitter Collection Setup](https://melaniewalsh.github.io/Intro-Cultural-Analytics/Collecting-Cultural-Data/Twitter-Collection-Setup.html)."
   ]
  },
  {
   "cell_type": "markdown",
   "metadata": {
    "tags": [
     "hide_input"
    ]
   },
   "source": [
    "You can configure twarc by running `twarc conifgure` on the command line, or you can type your Twitter handle (without the @ symbol) and [API keys](https://developer.twitter.com/en/apps) into the quotation marks below and run the cell."
   ]
  },
  {
   "cell_type": "markdown",
   "metadata": {
    "tags": [
     "hide_input"
    ]
   },
   "source": [
    "\n",
    "🚨 Skip running this cell if you've already configured twarc!! 🚨"
   ]
  },
  {
   "cell_type": "code",
   "execution_count": 10,
   "metadata": {
    "tags": [
     "hide_input"
    ]
   },
   "outputs": [],
   "source": [
    "#Insert Your Twitter API Info here\n",
    "\n",
    "twitter_handle = \"\"\n",
    "consumer_key= \"\"\n",
    "consumer_secret = \"\"\n",
    "access_token = \"\"\n",
    "access_token_secret= \"\"\n",
    "\n",
    "#The Code That Will Configure Twarc\n",
    "configuration = f\"\"\"[{twitter_handle}]\n",
    "consumer_key={consumer_key}\n",
    "consumer_secret = {consumer_secret}\n",
    "access_token = {access_token}\n",
    "access_token_secret= {access_token_secret}\n",
    "\"\"\"\n",
    "\n",
    "import os\n",
    "config_filename = os.path.join(os.path.expanduser(\"~\"), \".twarc\")\n",
    "with open(config_filename, \"w\") as file_object:\n",
    "    file_object.write(configuration)"
   ]
  },
  {
   "cell_type": "markdown",
   "metadata": {},
   "source": [
    "### Collect Tweets From Past 7 days"
   ]
  },
  {
   "cell_type": "markdown",
   "metadata": {},
   "source": [
    "With the free version of the Twitter API, there are basically two ways to collect your own Twitter data: in real time or ~7 days in the past. To get data any further in the past requires a paid version of the Twitter API. We're going to demonstrate how to collect Twitter data from the past ~7 days, but you can explore the other functionalities of Twarc by reading through [the documentation](https://github.com/DocNow/twarc)."
   ]
  },
  {
   "cell_type": "markdown",
   "metadata": {},
   "source": [
    "## Usage"
   ]
  },
  {
   "cell_type": "markdown",
   "metadata": {},
   "source": [
    "`twarc search \"cornell\" > cornell_search.jsonl` "
   ]
  },
  {
   "cell_type": "markdown",
   "metadata": {},
   "source": [
    "To collect tweets from approximately 7 days in the past, you can use the command `twarc search`, followed by a search query, then the output operator `>` and a filename of your choosing with the \".jsonl\" file extension (which outputs your Twitter data to this JSONL file)."
   ]
  },
  {
   "cell_type": "markdown",
   "metadata": {},
   "source": [
    "Search for tweets that mention \"cornell\" but only from verified accounts"
   ]
  },
  {
   "cell_type": "code",
   "execution_count": 22,
   "metadata": {},
   "outputs": [],
   "source": [
    "!twarc search \"cornell filter:verified\" > cornell_search.jsonl"
   ]
  },
  {
   "cell_type": "markdown",
   "metadata": {},
   "source": [
    "How many tweets were collected?"
   ]
  },
  {
   "cell_type": "markdown",
   "metadata": {},
   "source": [
    " Mac/Chrome OS"
   ]
  },
  {
   "cell_type": "code",
   "execution_count": 23,
   "metadata": {},
   "outputs": [
    {
     "name": "stdout",
     "output_type": "stream",
     "text": [
      "     804 cornell_search.jsonl\n"
     ]
    }
   ],
   "source": [
    "!wc -l cornell_search.jsonl"
   ]
  },
  {
   "cell_type": "markdown",
   "metadata": {},
   "source": [
    "<img src=https://upload.wikimedia.org/wikipedia/commons/thumb/3/34/Windows_logo_-_2012_derivative.svg/1024px-Windows_logo_-_2012_derivative.svg.png width=20 align='left' > Windows "
   ]
  },
  {
   "cell_type": "code",
   "execution_count": null,
   "metadata": {},
   "outputs": [],
   "source": [
    "!find /v /c \"\" cornell_search.jsonl"
   ]
  },
  {
   "cell_type": "markdown",
   "metadata": {},
   "source": [
    "If you download [Twarc utilities](https://github.com/DocNow/twarc#utilities), you can easily transform a Twitter jsonl file into a CSV file:"
   ]
  },
  {
   "cell_type": "code",
   "execution_count": 24,
   "metadata": {},
   "outputs": [],
   "source": [
    "!python twarc/utils/json2csv.py cornell_search.jsonl > cornell_search.csv"
   ]
  },
  {
   "cell_type": "markdown",
   "metadata": {},
   "source": [
    "What columns or metadata categories are available in this data?"
   ]
  },
  {
   "cell_type": "code",
   "execution_count": 25,
   "metadata": {},
   "outputs": [
    {
     "data": {
      "text/plain": [
       "Index(['id', 'tweet_url', 'created_at', 'parsed_created_at',\n",
       "       'user_screen_name', 'text', 'tweet_type', 'coordinates', 'hashtags',\n",
       "       'media', 'urls', 'favorite_count', 'in_reply_to_screen_name',\n",
       "       'in_reply_to_status_id', 'in_reply_to_user_id', 'lang', 'place',\n",
       "       'possibly_sensitive', 'retweet_count', 'retweet_or_quote_id',\n",
       "       'retweet_or_quote_screen_name', 'retweet_or_quote_user_id', 'source',\n",
       "       'user_id', 'user_created_at', 'user_default_profile_image',\n",
       "       'user_description', 'user_favourites_count', 'user_followers_count',\n",
       "       'user_friends_count', 'user_listed_count', 'user_location', 'user_name',\n",
       "       'user_statuses_count', 'user_time_zone', 'user_urls', 'user_verified'],\n",
       "      dtype='object')"
      ]
     },
     "execution_count": 25,
     "metadata": {},
     "output_type": "execute_result"
    }
   ],
   "source": [
    "cornell_tweet_df = pd.read_csv(\"cornell_search.csv\")\n",
    "cornell_tweet_df.columns"
   ]
  },
  {
   "cell_type": "markdown",
   "metadata": {},
   "source": [
    "Look at random sample of tweets"
   ]
  },
  {
   "cell_type": "code",
   "execution_count": 26,
   "metadata": {},
   "outputs": [
    {
     "data": {
      "text/html": [
       "<div>\n",
       "<style scoped>\n",
       "    .dataframe tbody tr th:only-of-type {\n",
       "        vertical-align: middle;\n",
       "    }\n",
       "\n",
       "    .dataframe tbody tr th {\n",
       "        vertical-align: top;\n",
       "    }\n",
       "\n",
       "    .dataframe thead th {\n",
       "        text-align: right;\n",
       "    }\n",
       "</style>\n",
       "<table border=\"1\" class=\"dataframe\">\n",
       "  <thead>\n",
       "    <tr style=\"text-align: right;\">\n",
       "      <th></th>\n",
       "      <th>user_screen_name</th>\n",
       "      <th>text</th>\n",
       "      <th>retweet_count</th>\n",
       "    </tr>\n",
       "  </thead>\n",
       "  <tbody>\n",
       "    <tr>\n",
       "      <th>134</th>\n",
       "      <td>CornellNews</td>\n",
       "      <td>New and extremely sensitive instruments are allowing scientists to use a novel source of information – gravitational waves – to understand fundamental principles of nature. https://t.co/C0yKh9Hca7</td>\n",
       "      <td>6</td>\n",
       "    </tr>\n",
       "    <tr>\n",
       "      <th>117</th>\n",
       "      <td>NeWNetwork</td>\n",
       "      <td>Tonight, NeW at @Cornell University is partnering with other groups on campus to host a debate featuring @LisaDaftari. https://t.co/WrhZNupGVO</td>\n",
       "      <td>0</td>\n",
       "    </tr>\n",
       "    <tr>\n",
       "      <th>207</th>\n",
       "      <td>GEResearch</td>\n",
       "      <td>\"Heart-felt\" news! Proud to partner with @rpi, @Cornell  and Cleerly Health on an @NIH project, applying #artificialintelligence tech to improve cardiac CT diagnosis. @GEHealthcare @generalelectric \\nhttps://t.co/o7oRfqyC7b</td>\n",
       "      <td>3</td>\n",
       "    </tr>\n",
       "    <tr>\n",
       "      <th>585</th>\n",
       "      <td>wellreadblkgirl</td>\n",
       "      <td>TODAY: Noted authors, scholars and poets will celebrate Toni Morrison, M.A. ’55, with a livestreamed community reading of her first novel “The Bluest Eye,” on the 50th anniversary of its release. @CornellCAS\\nhttps://t.co/rPlh6tnX0o</td>\n",
       "      <td>38</td>\n",
       "    </tr>\n",
       "    <tr>\n",
       "      <th>459</th>\n",
       "      <td>CornellAlumni</td>\n",
       "      <td>In her fourth State of the University Address, @Cornell President Martha E. Pollack announced that two residence halls will be named for Justice Ruth Bader Ginsburg ’54 and Nobel Prize-winning author Toni Morrison, M.A. ’55. @CornellAlumni #RBG #equity https://t.co/efzUQcJ1yV</td>\n",
       "      <td>13</td>\n",
       "    </tr>\n",
       "    <tr>\n",
       "      <th>579</th>\n",
       "      <td>cornellsun</td>\n",
       "      <td>Last week’s Student Assembly election drew a historically low voter turnout — less than a fifth of Cornell students casted their ballots.\\nhttps://t.co/deyRRjqWgd</td>\n",
       "      <td>0</td>\n",
       "    </tr>\n",
       "    <tr>\n",
       "      <th>162</th>\n",
       "      <td>ADsXe</td>\n",
       "      <td>Chris Cornell Talks to A.D. Rowntree https://t.co/hunb5ICRqo</td>\n",
       "      <td>0</td>\n",
       "    </tr>\n",
       "    <tr>\n",
       "      <th>158</th>\n",
       "      <td>detikcom</td>\n",
       "      <td>Peneliti dari Cornell University telah menciptakan teknologi baru di mana sistem earphone yang dapat mengetahui ekspresi wajah penggunanya meski pakai masker. Teknologi tersebut dinamai C-Face, bagaimana cara kerjanya? \\n\\nvia @detikinet https://t.co/xnxiT2BU0l</td>\n",
       "      <td>3</td>\n",
       "    </tr>\n",
       "    <tr>\n",
       "      <th>47</th>\n",
       "      <td>MikeABCColumbia</td>\n",
       "      <td>I love stories like this man.\\n\\nGamecock RB Kevin Harris was a three-star RB... had offers from Air Force, Army, Cornell, Elon, Furman, Mercer, MTSU, Navy, The Citadel, Tulane, and Wofford.\\n\\nNow... he's second in the SEC in rushing, behind only Alabama's Najee Harris.</td>\n",
       "      <td>100</td>\n",
       "    </tr>\n",
       "    <tr>\n",
       "      <th>21</th>\n",
       "      <td>Paul_Cornell</td>\n",
       "      <td>A lot of science folks are posting some superb spider photos for #Arachtober so I thought I'd resurrect a few of my rather less scientific sketches. Maybe next year 31 spiders and their handlers... https://t.co/eU41F0Y3Op</td>\n",
       "      <td>12</td>\n",
       "    </tr>\n",
       "  </tbody>\n",
       "</table>\n",
       "</div>"
      ],
      "text/plain": [
       "    user_screen_name  \\\n",
       "134      CornellNews   \n",
       "117       NeWNetwork   \n",
       "207       GEResearch   \n",
       "585  wellreadblkgirl   \n",
       "459    CornellAlumni   \n",
       "579       cornellsun   \n",
       "162            ADsXe   \n",
       "158         detikcom   \n",
       "47   MikeABCColumbia   \n",
       "21      Paul_Cornell   \n",
       "\n",
       "                                                                                                                                                                                                                                                                                     text  \\\n",
       "134                                                                                  New and extremely sensitive instruments are allowing scientists to use a novel source of information – gravitational waves – to understand fundamental principles of nature. https://t.co/C0yKh9Hca7   \n",
       "117                                                                                                                                        Tonight, NeW at @Cornell University is partnering with other groups on campus to host a debate featuring @LisaDaftari. https://t.co/WrhZNupGVO   \n",
       "207                                                       \"Heart-felt\" news! Proud to partner with @rpi, @Cornell  and Cleerly Health on an @NIH project, applying #artificialintelligence tech to improve cardiac CT diagnosis. @GEHealthcare @generalelectric \\nhttps://t.co/o7oRfqyC7b   \n",
       "585                                              TODAY: Noted authors, scholars and poets will celebrate Toni Morrison, M.A. ’55, with a livestreamed community reading of her first novel “The Bluest Eye,” on the 50th anniversary of its release. @CornellCAS\\nhttps://t.co/rPlh6tnX0o   \n",
       "459  In her fourth State of the University Address, @Cornell President Martha E. Pollack announced that two residence halls will be named for Justice Ruth Bader Ginsburg ’54 and Nobel Prize-winning author Toni Morrison, M.A. ’55. @CornellAlumni #RBG #equity https://t.co/efzUQcJ1yV   \n",
       "579                                                                                                                    Last week’s Student Assembly election drew a historically low voter turnout — less than a fifth of Cornell students casted their ballots.\\nhttps://t.co/deyRRjqWgd   \n",
       "162                                                                                                                                                                                                                          Chris Cornell Talks to A.D. Rowntree https://t.co/hunb5ICRqo   \n",
       "158                 Peneliti dari Cornell University telah menciptakan teknologi baru di mana sistem earphone yang dapat mengetahui ekspresi wajah penggunanya meski pakai masker. Teknologi tersebut dinamai C-Face, bagaimana cara kerjanya? \\n\\nvia @detikinet https://t.co/xnxiT2BU0l   \n",
       "47        I love stories like this man.\\n\\nGamecock RB Kevin Harris was a three-star RB... had offers from Air Force, Army, Cornell, Elon, Furman, Mercer, MTSU, Navy, The Citadel, Tulane, and Wofford.\\n\\nNow... he's second in the SEC in rushing, behind only Alabama's Najee Harris.   \n",
       "21                                                          A lot of science folks are posting some superb spider photos for #Arachtober so I thought I'd resurrect a few of my rather less scientific sketches. Maybe next year 31 spiders and their handlers... https://t.co/eU41F0Y3Op   \n",
       "\n",
       "     retweet_count  \n",
       "134              6  \n",
       "117              0  \n",
       "207              3  \n",
       "585             38  \n",
       "459             13  \n",
       "579              0  \n",
       "162              0  \n",
       "158              3  \n",
       "47             100  \n",
       "21              12  "
      ]
     },
     "execution_count": 26,
     "metadata": {},
     "output_type": "execute_result"
    }
   ],
   "source": [
    "cornell_tweet_df[['user_screen_name', 'text', 'retweet_count']].sample(10)"
   ]
  },
  {
   "cell_type": "markdown",
   "metadata": {},
   "source": [
    "Look at most retweeted tweets"
   ]
  },
  {
   "cell_type": "code",
   "execution_count": 27,
   "metadata": {},
   "outputs": [
    {
     "data": {
      "text/html": [
       "<div>\n",
       "<style scoped>\n",
       "    .dataframe tbody tr th:only-of-type {\n",
       "        vertical-align: middle;\n",
       "    }\n",
       "\n",
       "    .dataframe tbody tr th {\n",
       "        vertical-align: top;\n",
       "    }\n",
       "\n",
       "    .dataframe thead th {\n",
       "        text-align: right;\n",
       "    }\n",
       "</style>\n",
       "<table border=\"1\" class=\"dataframe\">\n",
       "  <thead>\n",
       "    <tr style=\"text-align: right;\">\n",
       "      <th></th>\n",
       "      <th>user_screen_name</th>\n",
       "      <th>text</th>\n",
       "      <th>retweet_count</th>\n",
       "    </tr>\n",
       "  </thead>\n",
       "  <tbody>\n",
       "    <tr>\n",
       "      <th>777</th>\n",
       "      <td>AskMrMickey</td>\n",
       "      <td>Dr. Fauci at a Cornell event: \"The potential for what COVID can do ... is very, very much different from influenza. You don't get a pandemic that kills a million people and it isn't even over yet within influenza. So it is not correct to say it's the same as flu.\"</td>\n",
       "      <td>1097</td>\n",
       "    </tr>\n",
       "    <tr>\n",
       "      <th>700</th>\n",
       "      <td>dasoulassassin</td>\n",
       "      <td>#GatesFoundation awarded $10 million to Cornell Alliance for Science. Investment comes when foundation under fire for spending billions on ag development schemes that critics say are entrenching farming methods that benefit corporations over people. \\n\\nhttps://t.co/lzlZGUeQMG</td>\n",
       "      <td>467</td>\n",
       "    </tr>\n",
       "    <tr>\n",
       "      <th>754</th>\n",
       "      <td>RobertKennedyJr</td>\n",
       "      <td>#GatesFoundation awarded $10 million to Cornell Alliance for Science. Investment comes when foundation under fire for spending billions on ag development schemes that critics say are entrenching farming methods that benefit corporations over people. \\n\\nhttps://t.co/lzlZGUeQMG</td>\n",
       "      <td>467</td>\n",
       "    </tr>\n",
       "    <tr>\n",
       "      <th>338</th>\n",
       "      <td>JamesPMorrison</td>\n",
       "      <td>President* Trump has been the single largest driver of misinformation about the COVID19 pandemic, a Cornell research study finds.\\n\\nIs Trump the biggest COVID19 #SuperSpreader on planet earth?\\n\\n@StandForBetter https://t.co/fnVoXSSsDO https://t.co/TFWS6YmArP https://t.co/Oquj9eTY9D</td>\n",
       "      <td>396</td>\n",
       "    </tr>\n",
       "    <tr>\n",
       "      <th>183</th>\n",
       "      <td>tanita_tikaram</td>\n",
       "      <td>President* Trump has been the single largest driver of misinformation about the COVID19 pandemic, a Cornell research study finds.\\n\\nIs Trump the biggest COVID19 #SuperSpreader on planet earth?\\n\\n@StandForBetter https://t.co/fnVoXSSsDO https://t.co/TFWS6YmArP https://t.co/Oquj9eTY9D</td>\n",
       "      <td>396</td>\n",
       "    </tr>\n",
       "    <tr>\n",
       "      <th>...</th>\n",
       "      <td>...</td>\n",
       "      <td>...</td>\n",
       "      <td>...</td>\n",
       "    </tr>\n",
       "    <tr>\n",
       "      <th>551</th>\n",
       "      <td>cornellsun</td>\n",
       "      <td>The newly updated site includes an interactive synopsis of 2020’s sustainability accomplishments, including Cornell’s carbon neutrality progress, education and engagement.\\nhttps://t.co/BJ1MFVB1Z3</td>\n",
       "      <td>0</td>\n",
       "    </tr>\n",
       "    <tr>\n",
       "      <th>550</th>\n",
       "      <td>Manning4USCong</td>\n",
       "      <td>@small4lyfe @Ilhan Show me where in the 14th amendment the right to privacy is discussed. \\nhttps://t.co/EELxavghCC\\nNot even RBG bought this justification.</td>\n",
       "      <td>0</td>\n",
       "    </tr>\n",
       "    <tr>\n",
       "      <th>191</th>\n",
       "      <td>jrburns</td>\n",
       "      <td>@DaveOBrienCT I worked with a couple who went to Cornell. Cornell College in Iowa.</td>\n",
       "      <td>0</td>\n",
       "    </tr>\n",
       "    <tr>\n",
       "      <th>548</th>\n",
       "      <td>Paul_Cornell</td>\n",
       "      <td>@marryshelleyy I’d best not read it, in case some of the concepts are similar.  Which is probably me being overtly worried about legal stuff, and is frustrating, because I love encouraging new takes.  Put it online and I’ll promote it without looking!</td>\n",
       "      <td>0</td>\n",
       "    </tr>\n",
       "    <tr>\n",
       "      <th>0</th>\n",
       "      <td>sidhubaba</td>\n",
       "      <td>The only story I care about today https://t.co/6gwMb0NDvB</td>\n",
       "      <td>0</td>\n",
       "    </tr>\n",
       "  </tbody>\n",
       "</table>\n",
       "<p>804 rows × 3 columns</p>\n",
       "</div>"
      ],
      "text/plain": [
       "    user_screen_name  \\\n",
       "777      AskMrMickey   \n",
       "700   dasoulassassin   \n",
       "754  RobertKennedyJr   \n",
       "338   JamesPMorrison   \n",
       "183   tanita_tikaram   \n",
       "..               ...   \n",
       "551       cornellsun   \n",
       "550   Manning4USCong   \n",
       "191          jrburns   \n",
       "548     Paul_Cornell   \n",
       "0          sidhubaba   \n",
       "\n",
       "                                                                                                                                                                                                                                                                                             text  \\\n",
       "777                      Dr. Fauci at a Cornell event: \"The potential for what COVID can do ... is very, very much different from influenza. You don't get a pandemic that kills a million people and it isn't even over yet within influenza. So it is not correct to say it's the same as flu.\"   \n",
       "700         #GatesFoundation awarded $10 million to Cornell Alliance for Science. Investment comes when foundation under fire for spending billions on ag development schemes that critics say are entrenching farming methods that benefit corporations over people. \\n\\nhttps://t.co/lzlZGUeQMG   \n",
       "754         #GatesFoundation awarded $10 million to Cornell Alliance for Science. Investment comes when foundation under fire for spending billions on ag development schemes that critics say are entrenching farming methods that benefit corporations over people. \\n\\nhttps://t.co/lzlZGUeQMG   \n",
       "338  President* Trump has been the single largest driver of misinformation about the COVID19 pandemic, a Cornell research study finds.\\n\\nIs Trump the biggest COVID19 #SuperSpreader on planet earth?\\n\\n@StandForBetter https://t.co/fnVoXSSsDO https://t.co/TFWS6YmArP https://t.co/Oquj9eTY9D   \n",
       "183  President* Trump has been the single largest driver of misinformation about the COVID19 pandemic, a Cornell research study finds.\\n\\nIs Trump the biggest COVID19 #SuperSpreader on planet earth?\\n\\n@StandForBetter https://t.co/fnVoXSSsDO https://t.co/TFWS6YmArP https://t.co/Oquj9eTY9D   \n",
       "..                                                                                                                                                                                                                                                                                            ...   \n",
       "551                                                                                          The newly updated site includes an interactive synopsis of 2020’s sustainability accomplishments, including Cornell’s carbon neutrality progress, education and engagement.\\nhttps://t.co/BJ1MFVB1Z3   \n",
       "550                                                                                                                                  @small4lyfe @Ilhan Show me where in the 14th amendment the right to privacy is discussed. \\nhttps://t.co/EELxavghCC\\nNot even RBG bought this justification.   \n",
       "191                                                                                                                                                                                                            @DaveOBrienCT I worked with a couple who went to Cornell. Cornell College in Iowa.   \n",
       "548                                   @marryshelleyy I’d best not read it, in case some of the concepts are similar.  Which is probably me being overtly worried about legal stuff, and is frustrating, because I love encouraging new takes.  Put it online and I’ll promote it without looking!   \n",
       "0                                                                                                                                                                                                                                       The only story I care about today https://t.co/6gwMb0NDvB   \n",
       "\n",
       "     retweet_count  \n",
       "777           1097  \n",
       "700            467  \n",
       "754            467  \n",
       "338            396  \n",
       "183            396  \n",
       "..             ...  \n",
       "551              0  \n",
       "550              0  \n",
       "191              0  \n",
       "548              0  \n",
       "0                0  \n",
       "\n",
       "[804 rows x 3 columns]"
      ]
     },
     "execution_count": 27,
     "metadata": {},
     "output_type": "execute_result"
    }
   ],
   "source": [
    "cornell_tweet_df[['user_screen_name', 'text', 'retweet_count']].sort_values(by='retweet_count', ascending=False)"
   ]
  },
  {
   "cell_type": "markdown",
   "metadata": {},
   "source": [
    "Output to CSV"
   ]
  },
  {
   "cell_type": "code",
   "execution_count": null,
   "metadata": {},
   "outputs": [],
   "source": [
    "cornell_tweet_df.to_csv('cornell_tweets.csv', index=False, encoding='utf-8')"
   ]
  },
  {
   "cell_type": "markdown",
   "metadata": {},
   "source": [
    "## Twitter Data Sharing"
   ]
  },
  {
   "cell_type": "markdown",
   "metadata": {},
   "source": [
    "Twitter discourages developers and researchers from sharing full Twitter data openly on the web. They instead encourage developers and researchers to share *tweet IDs*:\n",
    "\n",
    "> [If you provide Twitter Content to third parties, including downloadable datasets or via an API, you may only distribute **Tweet IDs**, Direct Message IDs, and/or User IDs.](https://developer.twitter.com/en/developer-terms/policy#4-e)\n",
    "\n",
    "Tweet IDs are unique identifiers assigned to every tweet. They look like a random string of numbers: 1189206626135355397. Each tweet ID can be used to download the full data associated with that tweet (if the tweet still exists). This is a process called \"hydration.\""
   ]
  },
  {
   "cell_type": "markdown",
   "metadata": {},
   "source": [
    "<img src=\"https://cdn.pixabay.com/photo/2013/07/12/19/24/sapling-154734_960_720.png\" width=100% >"
   ]
  },
  {
   "cell_type": "markdown",
   "metadata": {},
   "source": [
    "**Hydration: a young tweet ID sprouts into a full tweet (to be read in David Attenborough's voice)**"
   ]
  },
  {
   "cell_type": "markdown",
   "metadata": {},
   "source": [
    "You can read more about Twitter data sharing in my [online textbook](https://melaniewalsh.github.io/Intro-Cultural-Analytics/Data-Collection/Twitter-Data-Sharing.html)."
   ]
  },
  {
   "cell_type": "markdown",
   "metadata": {},
   "source": [
    "# Resources"
   ]
  },
  {
   "cell_type": "markdown",
   "metadata": {},
   "source": [
    "- [Pushshift](https://github.com/pushshift/api)\n",
    "    - [Pushshift arXiv paper PDF](https://arxiv.org/pdf/2001.08435.pdf)\n",
    "- [PSAW](https://github.com/dmarx/psaw)\n",
    "- [Twarc](https://github.com/DocNow/twarc)\n",
    "- [Twitter API documentation](https://developer.twitter.com/en/docs/twitter-api/getting-started/guide)"
   ]
  },
  {
   "cell_type": "markdown",
   "metadata": {},
   "source": [
    "# Recommended Reading: Social Media Data Ethics"
   ]
  },
  {
   "cell_type": "markdown",
   "metadata": {},
   "source": [
    "* [Doc Now White Paper](https://www.docnow.io/docs/docnow-whitepaper-2018.pdf), Bergis Jules, Ed Summers, Dr. Vernon Mitchell, Jr.\n",
    "* <a href=\"https://cmci.colorado.edu/~cafi5706/ICWSM2020_datascraping.pdf\">No Robots, Spiders, or Scrapers: Legal and Ethical Regulation of Data Collection Methods in Social Media Terms of Service</a>, Casey Fiesler, Nathan Beard, Brian C. Keegan\n",
    "* [#transform(ing)DH Writing and Research: An Autoethnography of Digital Humanities and Feminist Ethics](http://www.digitalhumanities.org/dhq/vol/9/2/000209/000209.html), Moya Bailey\n",
    "* [The #TwitterEthics Manifesto](https://modelviewculture.com/pieces/the-twitterethics-manifesto), Dorothy Kim and Eunsong Kim"
   ]
  }
 ],
 "metadata": {
  "kernelspec": {
   "display_name": "Python 3",
   "language": "python",
   "name": "python3"
  },
  "language_info": {
   "codemirror_mode": {
    "name": "ipython",
    "version": 3
   },
   "file_extension": ".py",
   "mimetype": "text/x-python",
   "name": "python",
   "nbconvert_exporter": "python",
   "pygments_lexer": "ipython3",
   "version": "3.7.6"
  }
 },
 "nbformat": 4,
 "nbformat_minor": 4
}
